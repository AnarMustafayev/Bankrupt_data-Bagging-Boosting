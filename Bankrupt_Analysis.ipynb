{
 "cells": [
  {
   "cell_type": "markdown",
   "metadata": {},
   "source": [
    "<h3>Load the data into a pandas dataframe<h3>"
   ]
  },
  {
   "cell_type": "code",
   "execution_count": 1,
   "metadata": {},
   "outputs": [],
   "source": [
    "import pandas as pd \n",
    "\n",
    "data = pd.read_csv(\"data.csv\")"
   ]
  },
  {
   "cell_type": "code",
   "execution_count": 2,
   "metadata": {},
   "outputs": [],
   "source": [
    "df = data.copy()"
   ]
  },
  {
   "cell_type": "code",
   "execution_count": 3,
   "metadata": {},
   "outputs": [
    {
     "data": {
      "text/plain": [
       "Index(['Bankrupt?', ' ROA(C) before interest and depreciation before interest',\n",
       "       ' ROA(A) before interest and % after tax',\n",
       "       ' ROA(B) before interest and depreciation after tax',\n",
       "       ' Operating Gross Margin', ' Realized Sales Gross Margin',\n",
       "       ' Operating Profit Rate', ' Pre-tax net Interest Rate',\n",
       "       ' After-tax net Interest Rate',\n",
       "       ' Non-industry income and expenditure/revenue',\n",
       "       ' Continuous interest rate (after tax)', ' Operating Expense Rate',\n",
       "       ' Research and development expense rate', ' Cash flow rate',\n",
       "       ' Interest-bearing debt interest rate', ' Tax rate (A)',\n",
       "       ' Net Value Per Share (B)', ' Net Value Per Share (A)',\n",
       "       ' Net Value Per Share (C)', ' Persistent EPS in the Last Four Seasons',\n",
       "       ' Cash Flow Per Share', ' Revenue Per Share (Yuan ¥)',\n",
       "       ' Operating Profit Per Share (Yuan ¥)',\n",
       "       ' Per Share Net profit before tax (Yuan ¥)',\n",
       "       ' Realized Sales Gross Profit Growth Rate',\n",
       "       ' Operating Profit Growth Rate', ' After-tax Net Profit Growth Rate',\n",
       "       ' Regular Net Profit Growth Rate', ' Continuous Net Profit Growth Rate',\n",
       "       ' Total Asset Growth Rate', ' Net Value Growth Rate',\n",
       "       ' Total Asset Return Growth Rate Ratio', ' Cash Reinvestment %',\n",
       "       ' Current Ratio', ' Quick Ratio', ' Interest Expense Ratio',\n",
       "       ' Total debt/Total net worth', ' Debt ratio %', ' Net worth/Assets',\n",
       "       ' Long-term fund suitability ratio (A)', ' Borrowing dependency',\n",
       "       ' Contingent liabilities/Net worth',\n",
       "       ' Operating profit/Paid-in capital',\n",
       "       ' Net profit before tax/Paid-in capital',\n",
       "       ' Inventory and accounts receivable/Net value', ' Total Asset Turnover',\n",
       "       ' Accounts Receivable Turnover', ' Average Collection Days',\n",
       "       ' Inventory Turnover Rate (times)', ' Fixed Assets Turnover Frequency',\n",
       "       ' Net Worth Turnover Rate (times)', ' Revenue per person',\n",
       "       ' Operating profit per person', ' Allocation rate per person',\n",
       "       ' Working Capital to Total Assets', ' Quick Assets/Total Assets',\n",
       "       ' Current Assets/Total Assets', ' Cash/Total Assets',\n",
       "       ' Quick Assets/Current Liability', ' Cash/Current Liability',\n",
       "       ' Current Liability to Assets', ' Operating Funds to Liability',\n",
       "       ' Inventory/Working Capital', ' Inventory/Current Liability',\n",
       "       ' Current Liabilities/Liability', ' Working Capital/Equity',\n",
       "       ' Current Liabilities/Equity', ' Long-term Liability to Current Assets',\n",
       "       ' Retained Earnings to Total Assets', ' Total income/Total expense',\n",
       "       ' Total expense/Assets', ' Current Asset Turnover Rate',\n",
       "       ' Quick Asset Turnover Rate', ' Working capitcal Turnover Rate',\n",
       "       ' Cash Turnover Rate', ' Cash Flow to Sales', ' Fixed Assets to Assets',\n",
       "       ' Current Liability to Liability', ' Current Liability to Equity',\n",
       "       ' Equity to Long-term Liability', ' Cash Flow to Total Assets',\n",
       "       ' Cash Flow to Liability', ' CFO to Assets', ' Cash Flow to Equity',\n",
       "       ' Current Liability to Current Assets', ' Liability-Assets Flag',\n",
       "       ' Net Income to Total Assets', ' Total assets to GNP price',\n",
       "       ' No-credit Interval', ' Gross Profit to Sales',\n",
       "       ' Net Income to Stockholder's Equity', ' Liability to Equity',\n",
       "       ' Degree of Financial Leverage (DFL)',\n",
       "       ' Interest Coverage Ratio (Interest expense to EBIT)',\n",
       "       ' Net Income Flag', ' Equity to Liability'],\n",
       "      dtype='object')"
      ]
     },
     "execution_count": 3,
     "metadata": {},
     "output_type": "execute_result"
    }
   ],
   "source": [
    "df.columns"
   ]
  },
  {
   "cell_type": "code",
   "execution_count": 4,
   "metadata": {},
   "outputs": [
    {
     "data": {
      "text/plain": [
       "(6819, 96)"
      ]
     },
     "execution_count": 4,
     "metadata": {},
     "output_type": "execute_result"
    }
   ],
   "source": [
    "df.shape"
   ]
  },
  {
   "cell_type": "code",
   "execution_count": 5,
   "metadata": {},
   "outputs": [
    {
     "data": {
      "text/html": [
       "<div>\n",
       "<style scoped>\n",
       "    .dataframe tbody tr th:only-of-type {\n",
       "        vertical-align: middle;\n",
       "    }\n",
       "\n",
       "    .dataframe tbody tr th {\n",
       "        vertical-align: top;\n",
       "    }\n",
       "\n",
       "    .dataframe thead th {\n",
       "        text-align: right;\n",
       "    }\n",
       "</style>\n",
       "<table border=\"1\" class=\"dataframe\">\n",
       "  <thead>\n",
       "    <tr style=\"text-align: right;\">\n",
       "      <th></th>\n",
       "      <th>Bankrupt?</th>\n",
       "      <th>ROA(C) before interest and depreciation before interest</th>\n",
       "      <th>ROA(A) before interest and % after tax</th>\n",
       "      <th>ROA(B) before interest and depreciation after tax</th>\n",
       "      <th>Operating Gross Margin</th>\n",
       "      <th>Realized Sales Gross Margin</th>\n",
       "      <th>Operating Profit Rate</th>\n",
       "      <th>Pre-tax net Interest Rate</th>\n",
       "      <th>After-tax net Interest Rate</th>\n",
       "      <th>Non-industry income and expenditure/revenue</th>\n",
       "      <th>...</th>\n",
       "      <th>Net Income to Total Assets</th>\n",
       "      <th>Total assets to GNP price</th>\n",
       "      <th>No-credit Interval</th>\n",
       "      <th>Gross Profit to Sales</th>\n",
       "      <th>Net Income to Stockholder's Equity</th>\n",
       "      <th>Liability to Equity</th>\n",
       "      <th>Degree of Financial Leverage (DFL)</th>\n",
       "      <th>Interest Coverage Ratio (Interest expense to EBIT)</th>\n",
       "      <th>Net Income Flag</th>\n",
       "      <th>Equity to Liability</th>\n",
       "    </tr>\n",
       "  </thead>\n",
       "  <tbody>\n",
       "    <tr>\n",
       "      <th>0</th>\n",
       "      <td>1</td>\n",
       "      <td>0.370594</td>\n",
       "      <td>0.424389</td>\n",
       "      <td>0.405750</td>\n",
       "      <td>0.601457</td>\n",
       "      <td>0.601457</td>\n",
       "      <td>0.998969</td>\n",
       "      <td>0.796887</td>\n",
       "      <td>0.808809</td>\n",
       "      <td>0.302646</td>\n",
       "      <td>...</td>\n",
       "      <td>0.716845</td>\n",
       "      <td>0.009219</td>\n",
       "      <td>0.622879</td>\n",
       "      <td>0.601453</td>\n",
       "      <td>0.827890</td>\n",
       "      <td>0.290202</td>\n",
       "      <td>0.026601</td>\n",
       "      <td>0.564050</td>\n",
       "      <td>1</td>\n",
       "      <td>0.016469</td>\n",
       "    </tr>\n",
       "    <tr>\n",
       "      <th>1</th>\n",
       "      <td>1</td>\n",
       "      <td>0.464291</td>\n",
       "      <td>0.538214</td>\n",
       "      <td>0.516730</td>\n",
       "      <td>0.610235</td>\n",
       "      <td>0.610235</td>\n",
       "      <td>0.998946</td>\n",
       "      <td>0.797380</td>\n",
       "      <td>0.809301</td>\n",
       "      <td>0.303556</td>\n",
       "      <td>...</td>\n",
       "      <td>0.795297</td>\n",
       "      <td>0.008323</td>\n",
       "      <td>0.623652</td>\n",
       "      <td>0.610237</td>\n",
       "      <td>0.839969</td>\n",
       "      <td>0.283846</td>\n",
       "      <td>0.264577</td>\n",
       "      <td>0.570175</td>\n",
       "      <td>1</td>\n",
       "      <td>0.020794</td>\n",
       "    </tr>\n",
       "    <tr>\n",
       "      <th>2</th>\n",
       "      <td>1</td>\n",
       "      <td>0.426071</td>\n",
       "      <td>0.499019</td>\n",
       "      <td>0.472295</td>\n",
       "      <td>0.601450</td>\n",
       "      <td>0.601364</td>\n",
       "      <td>0.998857</td>\n",
       "      <td>0.796403</td>\n",
       "      <td>0.808388</td>\n",
       "      <td>0.302035</td>\n",
       "      <td>...</td>\n",
       "      <td>0.774670</td>\n",
       "      <td>0.040003</td>\n",
       "      <td>0.623841</td>\n",
       "      <td>0.601449</td>\n",
       "      <td>0.836774</td>\n",
       "      <td>0.290189</td>\n",
       "      <td>0.026555</td>\n",
       "      <td>0.563706</td>\n",
       "      <td>1</td>\n",
       "      <td>0.016474</td>\n",
       "    </tr>\n",
       "    <tr>\n",
       "      <th>3</th>\n",
       "      <td>1</td>\n",
       "      <td>0.399844</td>\n",
       "      <td>0.451265</td>\n",
       "      <td>0.457733</td>\n",
       "      <td>0.583541</td>\n",
       "      <td>0.583541</td>\n",
       "      <td>0.998700</td>\n",
       "      <td>0.796967</td>\n",
       "      <td>0.808966</td>\n",
       "      <td>0.303350</td>\n",
       "      <td>...</td>\n",
       "      <td>0.739555</td>\n",
       "      <td>0.003252</td>\n",
       "      <td>0.622929</td>\n",
       "      <td>0.583538</td>\n",
       "      <td>0.834697</td>\n",
       "      <td>0.281721</td>\n",
       "      <td>0.026697</td>\n",
       "      <td>0.564663</td>\n",
       "      <td>1</td>\n",
       "      <td>0.023982</td>\n",
       "    </tr>\n",
       "    <tr>\n",
       "      <th>4</th>\n",
       "      <td>1</td>\n",
       "      <td>0.465022</td>\n",
       "      <td>0.538432</td>\n",
       "      <td>0.522298</td>\n",
       "      <td>0.598783</td>\n",
       "      <td>0.598783</td>\n",
       "      <td>0.998973</td>\n",
       "      <td>0.797366</td>\n",
       "      <td>0.809304</td>\n",
       "      <td>0.303475</td>\n",
       "      <td>...</td>\n",
       "      <td>0.795016</td>\n",
       "      <td>0.003878</td>\n",
       "      <td>0.623521</td>\n",
       "      <td>0.598782</td>\n",
       "      <td>0.839973</td>\n",
       "      <td>0.278514</td>\n",
       "      <td>0.024752</td>\n",
       "      <td>0.575617</td>\n",
       "      <td>1</td>\n",
       "      <td>0.035490</td>\n",
       "    </tr>\n",
       "  </tbody>\n",
       "</table>\n",
       "<p>5 rows × 96 columns</p>\n",
       "</div>"
      ],
      "text/plain": [
       "   Bankrupt?   ROA(C) before interest and depreciation before interest  \\\n",
       "0          1                                           0.370594          \n",
       "1          1                                           0.464291          \n",
       "2          1                                           0.426071          \n",
       "3          1                                           0.399844          \n",
       "4          1                                           0.465022          \n",
       "\n",
       "    ROA(A) before interest and % after tax  \\\n",
       "0                                 0.424389   \n",
       "1                                 0.538214   \n",
       "2                                 0.499019   \n",
       "3                                 0.451265   \n",
       "4                                 0.538432   \n",
       "\n",
       "    ROA(B) before interest and depreciation after tax  \\\n",
       "0                                           0.405750    \n",
       "1                                           0.516730    \n",
       "2                                           0.472295    \n",
       "3                                           0.457733    \n",
       "4                                           0.522298    \n",
       "\n",
       "    Operating Gross Margin   Realized Sales Gross Margin  \\\n",
       "0                 0.601457                      0.601457   \n",
       "1                 0.610235                      0.610235   \n",
       "2                 0.601450                      0.601364   \n",
       "3                 0.583541                      0.583541   \n",
       "4                 0.598783                      0.598783   \n",
       "\n",
       "    Operating Profit Rate   Pre-tax net Interest Rate  \\\n",
       "0                0.998969                    0.796887   \n",
       "1                0.998946                    0.797380   \n",
       "2                0.998857                    0.796403   \n",
       "3                0.998700                    0.796967   \n",
       "4                0.998973                    0.797366   \n",
       "\n",
       "    After-tax net Interest Rate   Non-industry income and expenditure/revenue  \\\n",
       "0                      0.808809                                      0.302646   \n",
       "1                      0.809301                                      0.303556   \n",
       "2                      0.808388                                      0.302035   \n",
       "3                      0.808966                                      0.303350   \n",
       "4                      0.809304                                      0.303475   \n",
       "\n",
       "   ...   Net Income to Total Assets   Total assets to GNP price  \\\n",
       "0  ...                     0.716845                    0.009219   \n",
       "1  ...                     0.795297                    0.008323   \n",
       "2  ...                     0.774670                    0.040003   \n",
       "3  ...                     0.739555                    0.003252   \n",
       "4  ...                     0.795016                    0.003878   \n",
       "\n",
       "    No-credit Interval   Gross Profit to Sales  \\\n",
       "0             0.622879                0.601453   \n",
       "1             0.623652                0.610237   \n",
       "2             0.623841                0.601449   \n",
       "3             0.622929                0.583538   \n",
       "4             0.623521                0.598782   \n",
       "\n",
       "    Net Income to Stockholder's Equity   Liability to Equity  \\\n",
       "0                             0.827890              0.290202   \n",
       "1                             0.839969              0.283846   \n",
       "2                             0.836774              0.290189   \n",
       "3                             0.834697              0.281721   \n",
       "4                             0.839973              0.278514   \n",
       "\n",
       "    Degree of Financial Leverage (DFL)  \\\n",
       "0                             0.026601   \n",
       "1                             0.264577   \n",
       "2                             0.026555   \n",
       "3                             0.026697   \n",
       "4                             0.024752   \n",
       "\n",
       "    Interest Coverage Ratio (Interest expense to EBIT)   Net Income Flag  \\\n",
       "0                                           0.564050                   1   \n",
       "1                                           0.570175                   1   \n",
       "2                                           0.563706                   1   \n",
       "3                                           0.564663                   1   \n",
       "4                                           0.575617                   1   \n",
       "\n",
       "    Equity to Liability  \n",
       "0              0.016469  \n",
       "1              0.020794  \n",
       "2              0.016474  \n",
       "3              0.023982  \n",
       "4              0.035490  \n",
       "\n",
       "[5 rows x 96 columns]"
      ]
     },
     "execution_count": 5,
     "metadata": {},
     "output_type": "execute_result"
    }
   ],
   "source": [
    "df.head()"
   ]
  },
  {
   "cell_type": "code",
   "execution_count": 6,
   "metadata": {},
   "outputs": [
    {
     "data": {
      "text/plain": [
       "0"
      ]
     },
     "execution_count": 6,
     "metadata": {},
     "output_type": "execute_result"
    }
   ],
   "source": [
    "df.isnull().sum().sum()"
   ]
  },
  {
   "cell_type": "markdown",
   "metadata": {},
   "source": [
    "<h3>Correction of column names<h3>"
   ]
  },
  {
   "cell_type": "code",
   "execution_count": 7,
   "metadata": {},
   "outputs": [
    {
     "data": {
      "text/plain": [
       "Index(['bankrupt_', '_roa_c_before_interest_and_depreciation_before_interest',\n",
       "       '_roa_a_before_interest_and__after_tax',\n",
       "       '_roa_b_before_interest_and_depreciation_after_tax',\n",
       "       '_operating_gross_margin', '_realized_sales_gross_margin',\n",
       "       '_operating_profit_rate', '_pre_tax_net_interest_rate',\n",
       "       '_after_tax_net_interest_rate',\n",
       "       '_non_industry_income_and_expenditure_revenue',\n",
       "       '_continuous_interest_rate__after_tax_', '_operating_expense_rate',\n",
       "       '_research_and_development_expense_rate', '_cash_flow_rate',\n",
       "       '_interest_bearing_debt_interest_rate', '_tax_rate__a_',\n",
       "       '_net_value_per_share__b_', '_net_value_per_share__a_',\n",
       "       '_net_value_per_share__c_', '_persistent_eps_in_the_last_four_seasons',\n",
       "       '_cash_flow_per_share', '_revenue_per_share__yuan__',\n",
       "       '_operating_profit_per_share__yuan__',\n",
       "       '_per_share_net_profit_before_tax__yuan__',\n",
       "       '_realized_sales_gross_profit_growth_rate',\n",
       "       '_operating_profit_growth_rate', '_after_tax_net_profit_growth_rate',\n",
       "       '_regular_net_profit_growth_rate', '_continuous_net_profit_growth_rate',\n",
       "       '_total_asset_growth_rate', '_net_value_growth_rate',\n",
       "       '_total_asset_return_growth_rate_ratio', '_cash_reinvestment__',\n",
       "       '_current_ratio', '_quick_ratio', '_interest_expense_ratio',\n",
       "       '_total_debt_total_net_worth', '_debt_ratio__', '_net_worth_assets',\n",
       "       '_long_term_fund_suitability_ratio__a_', '_borrowing_dependency',\n",
       "       '_contingent_liabilities_net_worth',\n",
       "       '_operating_profit_paid_in_capital',\n",
       "       '_net_profit_before_tax_paid_in_capital',\n",
       "       '_inventory_and_accounts_receivable_net_value', '_total_asset_turnover',\n",
       "       '_accounts_receivable_turnover', '_average_collection_days',\n",
       "       '_inventory_turnover_rate__times_', '_fixed_assets_turnover_frequency',\n",
       "       '_net_worth_turnover_rate__times_', '_revenue_per_person',\n",
       "       '_operating_profit_per_person', '_allocation_rate_per_person',\n",
       "       '_working_capital_to_total_assets', '_quick_assets_total_assets',\n",
       "       '_current_assets_total_assets', '_cash_total_assets',\n",
       "       '_quick_assets_current_liability', '_cash_current_liability',\n",
       "       '_current_liability_to_assets', '_operating_funds_to_liability',\n",
       "       '_inventory_working_capital', '_inventory_current_liability',\n",
       "       '_current_liabilities_liability', '_working_capital_equity',\n",
       "       '_current_liabilities_equity', '_long_term_liability_to_current_assets',\n",
       "       '_retained_earnings_to_total_assets', '_total_income_total_expense',\n",
       "       '_total_expense_assets', '_current_asset_turnover_rate',\n",
       "       '_quick_asset_turnover_rate', '_working_capitcal_turnover_rate',\n",
       "       '_cash_turnover_rate', '_cash_flow_to_sales', '_fixed_assets_to_assets',\n",
       "       '_current_liability_to_liability', '_current_liability_to_equity',\n",
       "       '_equity_to_long_term_liability', '_cash_flow_to_total_assets',\n",
       "       '_cash_flow_to_liability', '_cfo_to_assets', '_cash_flow_to_equity',\n",
       "       '_current_liability_to_current_assets', '_liability_assets_flag',\n",
       "       '_net_income_to_total_assets', '_total_assets_to_gnp_price',\n",
       "       '_no_credit_interval', '_gross_profit_to_sales',\n",
       "       '_net_income_to_stockholder_s_equity', '_liability_to_equity',\n",
       "       '_degree_of_financial_leverage__dfl_',\n",
       "       '_interest_coverage_ratio__interest_expense_to_ebit_',\n",
       "       '_net_income_flag', '_equity_to_liability'],\n",
       "      dtype='object')"
      ]
     },
     "execution_count": 7,
     "metadata": {},
     "output_type": "execute_result"
    }
   ],
   "source": [
    "import re\n",
    "pattern = r\"\\s+|\\W+\"\n",
    "replace = \"_\"\n",
    "new_names = []\n",
    "\n",
    "for col in df.columns:\n",
    "    new_str= re.sub(pattern,replace,col)\n",
    "    new_str=new_str.lower()\n",
    "    new_names.append(new_str)\n",
    "\n",
    "\n",
    "df.columns =new_names\n",
    "df.columns"
   ]
  },
  {
   "cell_type": "markdown",
   "metadata": {},
   "source": [
    "Correletion between target and labels"
   ]
  },
  {
   "cell_type": "code",
   "execution_count": 8,
   "metadata": {},
   "outputs": [
    {
     "data": {
      "text/html": [
       "<div>\n",
       "<style scoped>\n",
       "    .dataframe tbody tr th:only-of-type {\n",
       "        vertical-align: middle;\n",
       "    }\n",
       "\n",
       "    .dataframe tbody tr th {\n",
       "        vertical-align: top;\n",
       "    }\n",
       "\n",
       "    .dataframe thead th {\n",
       "        text-align: right;\n",
       "    }\n",
       "</style>\n",
       "<table border=\"1\" class=\"dataframe\">\n",
       "  <thead>\n",
       "    <tr style=\"text-align: right;\">\n",
       "      <th></th>\n",
       "      <th>bankrupt_</th>\n",
       "    </tr>\n",
       "  </thead>\n",
       "  <tbody>\n",
       "    <tr>\n",
       "      <th>bankrupt_</th>\n",
       "      <td>1.000000</td>\n",
       "    </tr>\n",
       "    <tr>\n",
       "      <th>_roa_c_before_interest_and_depreciation_before_interest</th>\n",
       "      <td>-0.260807</td>\n",
       "    </tr>\n",
       "    <tr>\n",
       "      <th>_roa_a_before_interest_and__after_tax</th>\n",
       "      <td>-0.282941</td>\n",
       "    </tr>\n",
       "    <tr>\n",
       "      <th>_roa_b_before_interest_and_depreciation_after_tax</th>\n",
       "      <td>-0.273051</td>\n",
       "    </tr>\n",
       "    <tr>\n",
       "      <th>_operating_gross_margin</th>\n",
       "      <td>-0.100043</td>\n",
       "    </tr>\n",
       "    <tr>\n",
       "      <th>_realized_sales_gross_margin</th>\n",
       "      <td>-0.099445</td>\n",
       "    </tr>\n",
       "    <tr>\n",
       "      <th>_operating_profit_rate</th>\n",
       "      <td>-0.000230</td>\n",
       "    </tr>\n",
       "    <tr>\n",
       "      <th>_pre_tax_net_interest_rate</th>\n",
       "      <td>-0.008517</td>\n",
       "    </tr>\n",
       "    <tr>\n",
       "      <th>_after_tax_net_interest_rate</th>\n",
       "      <td>-0.008857</td>\n",
       "    </tr>\n",
       "    <tr>\n",
       "      <th>_non_industry_income_and_expenditure_revenue</th>\n",
       "      <td>-0.016593</td>\n",
       "    </tr>\n",
       "    <tr>\n",
       "      <th>_continuous_interest_rate__after_tax_</th>\n",
       "      <td>-0.008395</td>\n",
       "    </tr>\n",
       "    <tr>\n",
       "      <th>_operating_expense_rate</th>\n",
       "      <td>-0.006083</td>\n",
       "    </tr>\n",
       "    <tr>\n",
       "      <th>_research_and_development_expense_rate</th>\n",
       "      <td>-0.024232</td>\n",
       "    </tr>\n",
       "    <tr>\n",
       "      <th>_cash_flow_rate</th>\n",
       "      <td>-0.072356</td>\n",
       "    </tr>\n",
       "    <tr>\n",
       "      <th>_interest_bearing_debt_interest_rate</th>\n",
       "      <td>-0.023063</td>\n",
       "    </tr>\n",
       "    <tr>\n",
       "      <th>_tax_rate__a_</th>\n",
       "      <td>-0.109706</td>\n",
       "    </tr>\n",
       "    <tr>\n",
       "      <th>_net_value_per_share__b_</th>\n",
       "      <td>-0.165399</td>\n",
       "    </tr>\n",
       "    <tr>\n",
       "      <th>_net_value_per_share__a_</th>\n",
       "      <td>-0.165465</td>\n",
       "    </tr>\n",
       "    <tr>\n",
       "      <th>_net_value_per_share__c_</th>\n",
       "      <td>-0.164784</td>\n",
       "    </tr>\n",
       "    <tr>\n",
       "      <th>_persistent_eps_in_the_last_four_seasons</th>\n",
       "      <td>-0.219560</td>\n",
       "    </tr>\n",
       "    <tr>\n",
       "      <th>_cash_flow_per_share</th>\n",
       "      <td>-0.077516</td>\n",
       "    </tr>\n",
       "    <tr>\n",
       "      <th>_revenue_per_share__yuan__</th>\n",
       "      <td>-0.004692</td>\n",
       "    </tr>\n",
       "    <tr>\n",
       "      <th>_operating_profit_per_share__yuan__</th>\n",
       "      <td>-0.142051</td>\n",
       "    </tr>\n",
       "    <tr>\n",
       "      <th>_per_share_net_profit_before_tax__yuan__</th>\n",
       "      <td>-0.201395</td>\n",
       "    </tr>\n",
       "    <tr>\n",
       "      <th>_realized_sales_gross_profit_growth_rate</th>\n",
       "      <td>-0.000458</td>\n",
       "    </tr>\n",
       "    <tr>\n",
       "      <th>_operating_profit_growth_rate</th>\n",
       "      <td>-0.015168</td>\n",
       "    </tr>\n",
       "    <tr>\n",
       "      <th>_after_tax_net_profit_growth_rate</th>\n",
       "      <td>-0.037783</td>\n",
       "    </tr>\n",
       "    <tr>\n",
       "      <th>_regular_net_profit_growth_rate</th>\n",
       "      <td>-0.036820</td>\n",
       "    </tr>\n",
       "    <tr>\n",
       "      <th>_continuous_net_profit_growth_rate</th>\n",
       "      <td>-0.009401</td>\n",
       "    </tr>\n",
       "    <tr>\n",
       "      <th>_total_asset_growth_rate</th>\n",
       "      <td>-0.044431</td>\n",
       "    </tr>\n",
       "    <tr>\n",
       "      <th>_net_value_growth_rate</th>\n",
       "      <td>0.065329</td>\n",
       "    </tr>\n",
       "    <tr>\n",
       "      <th>_total_asset_return_growth_rate_ratio</th>\n",
       "      <td>-0.016858</td>\n",
       "    </tr>\n",
       "    <tr>\n",
       "      <th>_cash_reinvestment__</th>\n",
       "      <td>-0.051345</td>\n",
       "    </tr>\n",
       "    <tr>\n",
       "      <th>_current_ratio</th>\n",
       "      <td>-0.002211</td>\n",
       "    </tr>\n",
       "    <tr>\n",
       "      <th>_quick_ratio</th>\n",
       "      <td>0.025058</td>\n",
       "    </tr>\n",
       "    <tr>\n",
       "      <th>_interest_expense_ratio</th>\n",
       "      <td>-0.002681</td>\n",
       "    </tr>\n",
       "    <tr>\n",
       "      <th>_total_debt_total_net_worth</th>\n",
       "      <td>0.012314</td>\n",
       "    </tr>\n",
       "    <tr>\n",
       "      <th>_debt_ratio__</th>\n",
       "      <td>0.250161</td>\n",
       "    </tr>\n",
       "    <tr>\n",
       "      <th>_net_worth_assets</th>\n",
       "      <td>-0.250161</td>\n",
       "    </tr>\n",
       "    <tr>\n",
       "      <th>_long_term_fund_suitability_ratio__a_</th>\n",
       "      <td>0.016920</td>\n",
       "    </tr>\n",
       "    <tr>\n",
       "      <th>_borrowing_dependency</th>\n",
       "      <td>0.176543</td>\n",
       "    </tr>\n",
       "    <tr>\n",
       "      <th>_contingent_liabilities_net_worth</th>\n",
       "      <td>0.070455</td>\n",
       "    </tr>\n",
       "    <tr>\n",
       "      <th>_operating_profit_paid_in_capital</th>\n",
       "      <td>-0.141111</td>\n",
       "    </tr>\n",
       "    <tr>\n",
       "      <th>_net_profit_before_tax_paid_in_capital</th>\n",
       "      <td>-0.207857</td>\n",
       "    </tr>\n",
       "    <tr>\n",
       "      <th>_inventory_and_accounts_receivable_net_value</th>\n",
       "      <td>0.075278</td>\n",
       "    </tr>\n",
       "    <tr>\n",
       "      <th>_total_asset_turnover</th>\n",
       "      <td>-0.067915</td>\n",
       "    </tr>\n",
       "    <tr>\n",
       "      <th>_accounts_receivable_turnover</th>\n",
       "      <td>-0.004754</td>\n",
       "    </tr>\n",
       "    <tr>\n",
       "      <th>_average_collection_days</th>\n",
       "      <td>-0.006556</td>\n",
       "    </tr>\n",
       "    <tr>\n",
       "      <th>_inventory_turnover_rate__times_</th>\n",
       "      <td>-0.001376</td>\n",
       "    </tr>\n",
       "    <tr>\n",
       "      <th>_fixed_assets_turnover_frequency</th>\n",
       "      <td>0.072818</td>\n",
       "    </tr>\n",
       "    <tr>\n",
       "      <th>_net_worth_turnover_rate__times_</th>\n",
       "      <td>0.021089</td>\n",
       "    </tr>\n",
       "    <tr>\n",
       "      <th>_revenue_per_person</th>\n",
       "      <td>0.039718</td>\n",
       "    </tr>\n",
       "    <tr>\n",
       "      <th>_operating_profit_per_person</th>\n",
       "      <td>-0.092842</td>\n",
       "    </tr>\n",
       "    <tr>\n",
       "      <th>_allocation_rate_per_person</th>\n",
       "      <td>0.002829</td>\n",
       "    </tr>\n",
       "    <tr>\n",
       "      <th>_working_capital_to_total_assets</th>\n",
       "      <td>-0.193083</td>\n",
       "    </tr>\n",
       "    <tr>\n",
       "      <th>_quick_assets_total_assets</th>\n",
       "      <td>-0.086382</td>\n",
       "    </tr>\n",
       "    <tr>\n",
       "      <th>_current_assets_total_assets</th>\n",
       "      <td>-0.044823</td>\n",
       "    </tr>\n",
       "    <tr>\n",
       "      <th>_cash_total_assets</th>\n",
       "      <td>-0.100130</td>\n",
       "    </tr>\n",
       "    <tr>\n",
       "      <th>_quick_assets_current_liability</th>\n",
       "      <td>-0.003823</td>\n",
       "    </tr>\n",
       "    <tr>\n",
       "      <th>_cash_current_liability</th>\n",
       "      <td>0.077921</td>\n",
       "    </tr>\n",
       "    <tr>\n",
       "      <th>_current_liability_to_assets</th>\n",
       "      <td>0.194494</td>\n",
       "    </tr>\n",
       "    <tr>\n",
       "      <th>_operating_funds_to_liability</th>\n",
       "      <td>-0.077082</td>\n",
       "    </tr>\n",
       "    <tr>\n",
       "      <th>_inventory_working_capital</th>\n",
       "      <td>-0.001906</td>\n",
       "    </tr>\n",
       "    <tr>\n",
       "      <th>_inventory_current_liability</th>\n",
       "      <td>0.000822</td>\n",
       "    </tr>\n",
       "    <tr>\n",
       "      <th>_current_liabilities_liability</th>\n",
       "      <td>-0.020809</td>\n",
       "    </tr>\n",
       "    <tr>\n",
       "      <th>_working_capital_equity</th>\n",
       "      <td>-0.147221</td>\n",
       "    </tr>\n",
       "    <tr>\n",
       "      <th>_current_liabilities_equity</th>\n",
       "      <td>0.153828</td>\n",
       "    </tr>\n",
       "    <tr>\n",
       "      <th>_long_term_liability_to_current_assets</th>\n",
       "      <td>0.000778</td>\n",
       "    </tr>\n",
       "    <tr>\n",
       "      <th>_retained_earnings_to_total_assets</th>\n",
       "      <td>-0.217779</td>\n",
       "    </tr>\n",
       "    <tr>\n",
       "      <th>_total_income_total_expense</th>\n",
       "      <td>-0.007137</td>\n",
       "    </tr>\n",
       "    <tr>\n",
       "      <th>_total_expense_assets</th>\n",
       "      <td>0.139049</td>\n",
       "    </tr>\n",
       "    <tr>\n",
       "      <th>_current_asset_turnover_rate</th>\n",
       "      <td>0.011929</td>\n",
       "    </tr>\n",
       "    <tr>\n",
       "      <th>_quick_asset_turnover_rate</th>\n",
       "      <td>0.025814</td>\n",
       "    </tr>\n",
       "    <tr>\n",
       "      <th>_working_capitcal_turnover_rate</th>\n",
       "      <td>-0.002894</td>\n",
       "    </tr>\n",
       "    <tr>\n",
       "      <th>_cash_turnover_rate</th>\n",
       "      <td>-0.018035</td>\n",
       "    </tr>\n",
       "    <tr>\n",
       "      <th>_cash_flow_to_sales</th>\n",
       "      <td>0.000479</td>\n",
       "    </tr>\n",
       "    <tr>\n",
       "      <th>_fixed_assets_to_assets</th>\n",
       "      <td>0.066328</td>\n",
       "    </tr>\n",
       "    <tr>\n",
       "      <th>_current_liability_to_liability</th>\n",
       "      <td>-0.020809</td>\n",
       "    </tr>\n",
       "    <tr>\n",
       "      <th>_current_liability_to_equity</th>\n",
       "      <td>0.153828</td>\n",
       "    </tr>\n",
       "    <tr>\n",
       "      <th>_equity_to_long_term_liability</th>\n",
       "      <td>0.139014</td>\n",
       "    </tr>\n",
       "    <tr>\n",
       "      <th>_cash_flow_to_total_assets</th>\n",
       "      <td>-0.070456</td>\n",
       "    </tr>\n",
       "    <tr>\n",
       "      <th>_cash_flow_to_liability</th>\n",
       "      <td>-0.043125</td>\n",
       "    </tr>\n",
       "    <tr>\n",
       "      <th>_cfo_to_assets</th>\n",
       "      <td>-0.115383</td>\n",
       "    </tr>\n",
       "    <tr>\n",
       "      <th>_cash_flow_to_equity</th>\n",
       "      <td>-0.058563</td>\n",
       "    </tr>\n",
       "    <tr>\n",
       "      <th>_current_liability_to_current_assets</th>\n",
       "      <td>0.171306</td>\n",
       "    </tr>\n",
       "    <tr>\n",
       "      <th>_liability_assets_flag</th>\n",
       "      <td>0.139212</td>\n",
       "    </tr>\n",
       "    <tr>\n",
       "      <th>_net_income_to_total_assets</th>\n",
       "      <td>-0.315457</td>\n",
       "    </tr>\n",
       "    <tr>\n",
       "      <th>_total_assets_to_gnp_price</th>\n",
       "      <td>0.035104</td>\n",
       "    </tr>\n",
       "    <tr>\n",
       "      <th>_no_credit_interval</th>\n",
       "      <td>-0.005547</td>\n",
       "    </tr>\n",
       "    <tr>\n",
       "      <th>_gross_profit_to_sales</th>\n",
       "      <td>-0.100044</td>\n",
       "    </tr>\n",
       "    <tr>\n",
       "      <th>_net_income_to_stockholder_s_equity</th>\n",
       "      <td>-0.180987</td>\n",
       "    </tr>\n",
       "    <tr>\n",
       "      <th>_liability_to_equity</th>\n",
       "      <td>0.166812</td>\n",
       "    </tr>\n",
       "    <tr>\n",
       "      <th>_degree_of_financial_leverage__dfl_</th>\n",
       "      <td>0.010508</td>\n",
       "    </tr>\n",
       "    <tr>\n",
       "      <th>_interest_coverage_ratio__interest_expense_to_ebit_</th>\n",
       "      <td>-0.005509</td>\n",
       "    </tr>\n",
       "    <tr>\n",
       "      <th>_net_income_flag</th>\n",
       "      <td>NaN</td>\n",
       "    </tr>\n",
       "    <tr>\n",
       "      <th>_equity_to_liability</th>\n",
       "      <td>-0.083048</td>\n",
       "    </tr>\n",
       "  </tbody>\n",
       "</table>\n",
       "</div>"
      ],
      "text/plain": [
       "                                                    bankrupt_\n",
       "bankrupt_                                            1.000000\n",
       "_roa_c_before_interest_and_depreciation_before_...  -0.260807\n",
       "_roa_a_before_interest_and__after_tax               -0.282941\n",
       "_roa_b_before_interest_and_depreciation_after_tax   -0.273051\n",
       "_operating_gross_margin                             -0.100043\n",
       "_realized_sales_gross_margin                        -0.099445\n",
       "_operating_profit_rate                              -0.000230\n",
       "_pre_tax_net_interest_rate                          -0.008517\n",
       "_after_tax_net_interest_rate                        -0.008857\n",
       "_non_industry_income_and_expenditure_revenue        -0.016593\n",
       "_continuous_interest_rate__after_tax_               -0.008395\n",
       "_operating_expense_rate                             -0.006083\n",
       "_research_and_development_expense_rate              -0.024232\n",
       "_cash_flow_rate                                     -0.072356\n",
       "_interest_bearing_debt_interest_rate                -0.023063\n",
       "_tax_rate__a_                                       -0.109706\n",
       "_net_value_per_share__b_                            -0.165399\n",
       "_net_value_per_share__a_                            -0.165465\n",
       "_net_value_per_share__c_                            -0.164784\n",
       "_persistent_eps_in_the_last_four_seasons            -0.219560\n",
       "_cash_flow_per_share                                -0.077516\n",
       "_revenue_per_share__yuan__                          -0.004692\n",
       "_operating_profit_per_share__yuan__                 -0.142051\n",
       "_per_share_net_profit_before_tax__yuan__            -0.201395\n",
       "_realized_sales_gross_profit_growth_rate            -0.000458\n",
       "_operating_profit_growth_rate                       -0.015168\n",
       "_after_tax_net_profit_growth_rate                   -0.037783\n",
       "_regular_net_profit_growth_rate                     -0.036820\n",
       "_continuous_net_profit_growth_rate                  -0.009401\n",
       "_total_asset_growth_rate                            -0.044431\n",
       "_net_value_growth_rate                               0.065329\n",
       "_total_asset_return_growth_rate_ratio               -0.016858\n",
       "_cash_reinvestment__                                -0.051345\n",
       "_current_ratio                                      -0.002211\n",
       "_quick_ratio                                         0.025058\n",
       "_interest_expense_ratio                             -0.002681\n",
       "_total_debt_total_net_worth                          0.012314\n",
       "_debt_ratio__                                        0.250161\n",
       "_net_worth_assets                                   -0.250161\n",
       "_long_term_fund_suitability_ratio__a_                0.016920\n",
       "_borrowing_dependency                                0.176543\n",
       "_contingent_liabilities_net_worth                    0.070455\n",
       "_operating_profit_paid_in_capital                   -0.141111\n",
       "_net_profit_before_tax_paid_in_capital              -0.207857\n",
       "_inventory_and_accounts_receivable_net_value         0.075278\n",
       "_total_asset_turnover                               -0.067915\n",
       "_accounts_receivable_turnover                       -0.004754\n",
       "_average_collection_days                            -0.006556\n",
       "_inventory_turnover_rate__times_                    -0.001376\n",
       "_fixed_assets_turnover_frequency                     0.072818\n",
       "_net_worth_turnover_rate__times_                     0.021089\n",
       "_revenue_per_person                                  0.039718\n",
       "_operating_profit_per_person                        -0.092842\n",
       "_allocation_rate_per_person                          0.002829\n",
       "_working_capital_to_total_assets                    -0.193083\n",
       "_quick_assets_total_assets                          -0.086382\n",
       "_current_assets_total_assets                        -0.044823\n",
       "_cash_total_assets                                  -0.100130\n",
       "_quick_assets_current_liability                     -0.003823\n",
       "_cash_current_liability                              0.077921\n",
       "_current_liability_to_assets                         0.194494\n",
       "_operating_funds_to_liability                       -0.077082\n",
       "_inventory_working_capital                          -0.001906\n",
       "_inventory_current_liability                         0.000822\n",
       "_current_liabilities_liability                      -0.020809\n",
       "_working_capital_equity                             -0.147221\n",
       "_current_liabilities_equity                          0.153828\n",
       "_long_term_liability_to_current_assets               0.000778\n",
       "_retained_earnings_to_total_assets                  -0.217779\n",
       "_total_income_total_expense                         -0.007137\n",
       "_total_expense_assets                                0.139049\n",
       "_current_asset_turnover_rate                         0.011929\n",
       "_quick_asset_turnover_rate                           0.025814\n",
       "_working_capitcal_turnover_rate                     -0.002894\n",
       "_cash_turnover_rate                                 -0.018035\n",
       "_cash_flow_to_sales                                  0.000479\n",
       "_fixed_assets_to_assets                              0.066328\n",
       "_current_liability_to_liability                     -0.020809\n",
       "_current_liability_to_equity                         0.153828\n",
       "_equity_to_long_term_liability                       0.139014\n",
       "_cash_flow_to_total_assets                          -0.070456\n",
       "_cash_flow_to_liability                             -0.043125\n",
       "_cfo_to_assets                                      -0.115383\n",
       "_cash_flow_to_equity                                -0.058563\n",
       "_current_liability_to_current_assets                 0.171306\n",
       "_liability_assets_flag                               0.139212\n",
       "_net_income_to_total_assets                         -0.315457\n",
       "_total_assets_to_gnp_price                           0.035104\n",
       "_no_credit_interval                                 -0.005547\n",
       "_gross_profit_to_sales                              -0.100044\n",
       "_net_income_to_stockholder_s_equity                 -0.180987\n",
       "_liability_to_equity                                 0.166812\n",
       "_degree_of_financial_leverage__dfl_                  0.010508\n",
       "_interest_coverage_ratio__interest_expense_to_e...  -0.005509\n",
       "_net_income_flag                                          NaN\n",
       "_equity_to_liability                                -0.083048"
      ]
     },
     "execution_count": 8,
     "metadata": {},
     "output_type": "execute_result"
    }
   ],
   "source": [
    "\n",
    "\n",
    "pd.set_option('display.max_rows', None)\n",
    "pd.reset_option(\"max_columns\")\n",
    "df.corr().iloc[:,[0]]"
   ]
  },
  {
   "cell_type": "code",
   "execution_count": 9,
   "metadata": {},
   "outputs": [
    {
     "data": {
      "text/plain": [
       "1    6819\n",
       "Name: _net_income_flag, dtype: int64"
      ]
     },
     "execution_count": 9,
     "metadata": {},
     "output_type": "execute_result"
    }
   ],
   "source": [
    "df[\"_net_income_flag\"].value_counts() # it contains only 1"
   ]
  },
  {
   "cell_type": "code",
   "execution_count": 10,
   "metadata": {},
   "outputs": [],
   "source": [
    "df.drop([\"_net_income_flag\"],axis=1,inplace=True)"
   ]
  },
  {
   "cell_type": "code",
   "execution_count": 11,
   "metadata": {},
   "outputs": [
    {
     "data": {
      "text/plain": [
       "0    6599\n",
       "1     220\n",
       "Name: bankrupt_, dtype: int64"
      ]
     },
     "execution_count": 11,
     "metadata": {},
     "output_type": "execute_result"
    }
   ],
   "source": [
    "df[\"bankrupt_\"].value_counts() # there is inbalance problem"
   ]
  },
  {
   "cell_type": "code",
   "execution_count": 12,
   "metadata": {},
   "outputs": [
    {
     "data": {
      "text/plain": [
       "['bankrupt_', '_liability_assets_flag']"
      ]
     },
     "execution_count": 12,
     "metadata": {},
     "output_type": "execute_result"
    }
   ],
   "source": [
    "cat_cols= []\n",
    "for i in df.columns:\n",
    "    if df[i].nunique()<20:\n",
    "        cat_cols.append(i)\n",
    "cat_cols\n"
   ]
  },
  {
   "cell_type": "code",
   "execution_count": 13,
   "metadata": {},
   "outputs": [],
   "source": [
    "df.drop([\"_liability_assets_flag\"],axis=1, inplace=True)\n"
   ]
  },
  {
   "cell_type": "code",
   "execution_count": 14,
   "metadata": {},
   "outputs": [],
   "source": [
    "X= df.drop([\"bankrupt_\"],axis=1)\n",
    "y = df[\"bankrupt_\"]"
   ]
  },
  {
   "cell_type": "code",
   "execution_count": null,
   "metadata": {},
   "outputs": [],
   "source": []
  },
  {
   "cell_type": "code",
   "execution_count": 15,
   "metadata": {},
   "outputs": [],
   "source": [
    "from imblearn.over_sampling import RandomOverSampler \n",
    "oversample = RandomOverSampler(sampling_strategy=0.5,random_state=42)\n"
   ]
  },
  {
   "cell_type": "code",
   "execution_count": 16,
   "metadata": {},
   "outputs": [],
   "source": [
    "X_over, y_over = oversample.fit_resample(X, y)"
   ]
  },
  {
   "cell_type": "markdown",
   "metadata": {},
   "source": [
    "Checking inbalance "
   ]
  },
  {
   "cell_type": "code",
   "execution_count": 17,
   "metadata": {},
   "outputs": [
    {
     "data": {
      "text/plain": [
       "0    6599\n",
       "1     220\n",
       "Name: bankrupt_, dtype: int64"
      ]
     },
     "execution_count": 17,
     "metadata": {},
     "output_type": "execute_result"
    }
   ],
   "source": [
    "y.value_counts()"
   ]
  },
  {
   "cell_type": "code",
   "execution_count": 18,
   "metadata": {},
   "outputs": [
    {
     "data": {
      "text/plain": [
       "0    6599\n",
       "1    3299\n",
       "Name: bankrupt_, dtype: int64"
      ]
     },
     "execution_count": 18,
     "metadata": {},
     "output_type": "execute_result"
    }
   ],
   "source": [
    "y_over.value_counts()"
   ]
  },
  {
   "cell_type": "code",
   "execution_count": 19,
   "metadata": {},
   "outputs": [],
   "source": [
    "from sklearn.preprocessing import RobustScaler  \n",
    "scaler = RobustScaler()"
   ]
  },
  {
   "cell_type": "code",
   "execution_count": 20,
   "metadata": {},
   "outputs": [],
   "source": [
    "X_over_cols = X_over.columns\n",
    "X_over = scaler.fit_transform(X_over)\n",
    "X_over= pd.DataFrame(X_over,columns=X_over_cols)"
   ]
  },
  {
   "cell_type": "markdown",
   "metadata": {},
   "source": [
    "Modelling"
   ]
  },
  {
   "cell_type": "code",
   "execution_count": 21,
   "metadata": {},
   "outputs": [],
   "source": [
    "from sklearn.model_selection import train_test_split\n",
    "X_train,X_test,y_train,y_test = train_test_split(X_over,y_over,test_size = 0.2, random_state=101,stratify = y_over)"
   ]
  },
  {
   "cell_type": "code",
   "execution_count": 22,
   "metadata": {},
   "outputs": [
    {
     "data": {
      "text/html": [
       "<style>#sk-container-id-1 {color: black;}#sk-container-id-1 pre{padding: 0;}#sk-container-id-1 div.sk-toggleable {background-color: white;}#sk-container-id-1 label.sk-toggleable__label {cursor: pointer;display: block;width: 100%;margin-bottom: 0;padding: 0.3em;box-sizing: border-box;text-align: center;}#sk-container-id-1 label.sk-toggleable__label-arrow:before {content: \"▸\";float: left;margin-right: 0.25em;color: #696969;}#sk-container-id-1 label.sk-toggleable__label-arrow:hover:before {color: black;}#sk-container-id-1 div.sk-estimator:hover label.sk-toggleable__label-arrow:before {color: black;}#sk-container-id-1 div.sk-toggleable__content {max-height: 0;max-width: 0;overflow: hidden;text-align: left;background-color: #f0f8ff;}#sk-container-id-1 div.sk-toggleable__content pre {margin: 0.2em;color: black;border-radius: 0.25em;background-color: #f0f8ff;}#sk-container-id-1 input.sk-toggleable__control:checked~div.sk-toggleable__content {max-height: 200px;max-width: 100%;overflow: auto;}#sk-container-id-1 input.sk-toggleable__control:checked~label.sk-toggleable__label-arrow:before {content: \"▾\";}#sk-container-id-1 div.sk-estimator input.sk-toggleable__control:checked~label.sk-toggleable__label {background-color: #d4ebff;}#sk-container-id-1 div.sk-label input.sk-toggleable__control:checked~label.sk-toggleable__label {background-color: #d4ebff;}#sk-container-id-1 input.sk-hidden--visually {border: 0;clip: rect(1px 1px 1px 1px);clip: rect(1px, 1px, 1px, 1px);height: 1px;margin: -1px;overflow: hidden;padding: 0;position: absolute;width: 1px;}#sk-container-id-1 div.sk-estimator {font-family: monospace;background-color: #f0f8ff;border: 1px dotted black;border-radius: 0.25em;box-sizing: border-box;margin-bottom: 0.5em;}#sk-container-id-1 div.sk-estimator:hover {background-color: #d4ebff;}#sk-container-id-1 div.sk-parallel-item::after {content: \"\";width: 100%;border-bottom: 1px solid gray;flex-grow: 1;}#sk-container-id-1 div.sk-label:hover label.sk-toggleable__label {background-color: #d4ebff;}#sk-container-id-1 div.sk-serial::before {content: \"\";position: absolute;border-left: 1px solid gray;box-sizing: border-box;top: 0;bottom: 0;left: 50%;z-index: 0;}#sk-container-id-1 div.sk-serial {display: flex;flex-direction: column;align-items: center;background-color: white;padding-right: 0.2em;padding-left: 0.2em;position: relative;}#sk-container-id-1 div.sk-item {position: relative;z-index: 1;}#sk-container-id-1 div.sk-parallel {display: flex;align-items: stretch;justify-content: center;background-color: white;position: relative;}#sk-container-id-1 div.sk-item::before, #sk-container-id-1 div.sk-parallel-item::before {content: \"\";position: absolute;border-left: 1px solid gray;box-sizing: border-box;top: 0;bottom: 0;left: 50%;z-index: -1;}#sk-container-id-1 div.sk-parallel-item {display: flex;flex-direction: column;z-index: 1;position: relative;background-color: white;}#sk-container-id-1 div.sk-parallel-item:first-child::after {align-self: flex-end;width: 50%;}#sk-container-id-1 div.sk-parallel-item:last-child::after {align-self: flex-start;width: 50%;}#sk-container-id-1 div.sk-parallel-item:only-child::after {width: 0;}#sk-container-id-1 div.sk-dashed-wrapped {border: 1px dashed gray;margin: 0 0.4em 0.5em 0.4em;box-sizing: border-box;padding-bottom: 0.4em;background-color: white;}#sk-container-id-1 div.sk-label label {font-family: monospace;font-weight: bold;display: inline-block;line-height: 1.2em;}#sk-container-id-1 div.sk-label-container {text-align: center;}#sk-container-id-1 div.sk-container {/* jupyter's `normalize.less` sets `[hidden] { display: none; }` but bootstrap.min.css set `[hidden] { display: none !important; }` so we also need the `!important` here to be able to override the default hidden behavior on the sphinx rendered scikit-learn.org. See: https://github.com/scikit-learn/scikit-learn/issues/21755 */display: inline-block !important;position: relative;}#sk-container-id-1 div.sk-text-repr-fallback {display: none;}</style><div id=\"sk-container-id-1\" class=\"sk-top-container\"><div class=\"sk-text-repr-fallback\"><pre>BaggingClassifier(estimator=DecisionTreeClassifier(random_state=101))</pre><b>In a Jupyter environment, please rerun this cell to show the HTML representation or trust the notebook. <br />On GitHub, the HTML representation is unable to render, please try loading this page with nbviewer.org.</b></div><div class=\"sk-container\" hidden><div class=\"sk-item sk-dashed-wrapped\"><div class=\"sk-label-container\"><div class=\"sk-label sk-toggleable\"><input class=\"sk-toggleable__control sk-hidden--visually\" id=\"sk-estimator-id-1\" type=\"checkbox\" ><label for=\"sk-estimator-id-1\" class=\"sk-toggleable__label sk-toggleable__label-arrow\">BaggingClassifier</label><div class=\"sk-toggleable__content\"><pre>BaggingClassifier(estimator=DecisionTreeClassifier(random_state=101))</pre></div></div></div><div class=\"sk-parallel\"><div class=\"sk-parallel-item\"><div class=\"sk-item\"><div class=\"sk-label-container\"><div class=\"sk-label sk-toggleable\"><input class=\"sk-toggleable__control sk-hidden--visually\" id=\"sk-estimator-id-2\" type=\"checkbox\" ><label for=\"sk-estimator-id-2\" class=\"sk-toggleable__label sk-toggleable__label-arrow\">estimator: DecisionTreeClassifier</label><div class=\"sk-toggleable__content\"><pre>DecisionTreeClassifier(random_state=101)</pre></div></div></div><div class=\"sk-serial\"><div class=\"sk-item\"><div class=\"sk-estimator sk-toggleable\"><input class=\"sk-toggleable__control sk-hidden--visually\" id=\"sk-estimator-id-3\" type=\"checkbox\" ><label for=\"sk-estimator-id-3\" class=\"sk-toggleable__label sk-toggleable__label-arrow\">DecisionTreeClassifier</label><div class=\"sk-toggleable__content\"><pre>DecisionTreeClassifier(random_state=101)</pre></div></div></div></div></div></div></div></div></div></div>"
      ],
      "text/plain": [
       "BaggingClassifier(estimator=DecisionTreeClassifier(random_state=101))"
      ]
     },
     "execution_count": 22,
     "metadata": {},
     "output_type": "execute_result"
    }
   ],
   "source": [
    "from sklearn.ensemble import BaggingClassifier\n",
    "from sklearn.tree import DecisionTreeClassifier\n",
    "\n",
    "model = BaggingClassifier(DecisionTreeClassifier(random_state=101))\n",
    "model.fit(X_train,y_train)"
   ]
  },
  {
   "cell_type": "code",
   "execution_count": 23,
   "metadata": {},
   "outputs": [
    {
     "data": {
      "text/plain": [
       "0.9998737054811822"
      ]
     },
     "execution_count": 23,
     "metadata": {},
     "output_type": "execute_result"
    }
   ],
   "source": [
    "model.score(X_train,y_train)"
   ]
  },
  {
   "cell_type": "code",
   "execution_count": 24,
   "metadata": {},
   "outputs": [
    {
     "data": {
      "text/plain": [
       "0.9888888888888889"
      ]
     },
     "execution_count": 24,
     "metadata": {},
     "output_type": "execute_result"
    }
   ],
   "source": [
    "model.score(X_test,y_test)"
   ]
  },
  {
   "cell_type": "code",
   "execution_count": 25,
   "metadata": {},
   "outputs": [],
   "source": [
    "y_pred = model.predict(X_test)"
   ]
  },
  {
   "cell_type": "code",
   "execution_count": 26,
   "metadata": {},
   "outputs": [
    {
     "data": {
      "text/plain": [
       "0.9888888888888889"
      ]
     },
     "execution_count": 26,
     "metadata": {},
     "output_type": "execute_result"
    }
   ],
   "source": [
    "from sklearn.metrics import accuracy_score, confusion_matrix\n",
    "\n",
    "accuracy_score(y_test,y_pred)"
   ]
  },
  {
   "cell_type": "code",
   "execution_count": 27,
   "metadata": {},
   "outputs": [
    {
     "data": {
      "text/plain": [
       "array([[1298,   22],\n",
       "       [   0,  660]], dtype=int64)"
      ]
     },
     "execution_count": 27,
     "metadata": {},
     "output_type": "execute_result"
    }
   ],
   "source": [
    "confusion_matrix(y_test,y_pred)"
   ]
  },
  {
   "cell_type": "code",
   "execution_count": 28,
   "metadata": {},
   "outputs": [
    {
     "data": {
      "text/html": [
       "<style>#sk-container-id-2 {color: black;}#sk-container-id-2 pre{padding: 0;}#sk-container-id-2 div.sk-toggleable {background-color: white;}#sk-container-id-2 label.sk-toggleable__label {cursor: pointer;display: block;width: 100%;margin-bottom: 0;padding: 0.3em;box-sizing: border-box;text-align: center;}#sk-container-id-2 label.sk-toggleable__label-arrow:before {content: \"▸\";float: left;margin-right: 0.25em;color: #696969;}#sk-container-id-2 label.sk-toggleable__label-arrow:hover:before {color: black;}#sk-container-id-2 div.sk-estimator:hover label.sk-toggleable__label-arrow:before {color: black;}#sk-container-id-2 div.sk-toggleable__content {max-height: 0;max-width: 0;overflow: hidden;text-align: left;background-color: #f0f8ff;}#sk-container-id-2 div.sk-toggleable__content pre {margin: 0.2em;color: black;border-radius: 0.25em;background-color: #f0f8ff;}#sk-container-id-2 input.sk-toggleable__control:checked~div.sk-toggleable__content {max-height: 200px;max-width: 100%;overflow: auto;}#sk-container-id-2 input.sk-toggleable__control:checked~label.sk-toggleable__label-arrow:before {content: \"▾\";}#sk-container-id-2 div.sk-estimator input.sk-toggleable__control:checked~label.sk-toggleable__label {background-color: #d4ebff;}#sk-container-id-2 div.sk-label input.sk-toggleable__control:checked~label.sk-toggleable__label {background-color: #d4ebff;}#sk-container-id-2 input.sk-hidden--visually {border: 0;clip: rect(1px 1px 1px 1px);clip: rect(1px, 1px, 1px, 1px);height: 1px;margin: -1px;overflow: hidden;padding: 0;position: absolute;width: 1px;}#sk-container-id-2 div.sk-estimator {font-family: monospace;background-color: #f0f8ff;border: 1px dotted black;border-radius: 0.25em;box-sizing: border-box;margin-bottom: 0.5em;}#sk-container-id-2 div.sk-estimator:hover {background-color: #d4ebff;}#sk-container-id-2 div.sk-parallel-item::after {content: \"\";width: 100%;border-bottom: 1px solid gray;flex-grow: 1;}#sk-container-id-2 div.sk-label:hover label.sk-toggleable__label {background-color: #d4ebff;}#sk-container-id-2 div.sk-serial::before {content: \"\";position: absolute;border-left: 1px solid gray;box-sizing: border-box;top: 0;bottom: 0;left: 50%;z-index: 0;}#sk-container-id-2 div.sk-serial {display: flex;flex-direction: column;align-items: center;background-color: white;padding-right: 0.2em;padding-left: 0.2em;position: relative;}#sk-container-id-2 div.sk-item {position: relative;z-index: 1;}#sk-container-id-2 div.sk-parallel {display: flex;align-items: stretch;justify-content: center;background-color: white;position: relative;}#sk-container-id-2 div.sk-item::before, #sk-container-id-2 div.sk-parallel-item::before {content: \"\";position: absolute;border-left: 1px solid gray;box-sizing: border-box;top: 0;bottom: 0;left: 50%;z-index: -1;}#sk-container-id-2 div.sk-parallel-item {display: flex;flex-direction: column;z-index: 1;position: relative;background-color: white;}#sk-container-id-2 div.sk-parallel-item:first-child::after {align-self: flex-end;width: 50%;}#sk-container-id-2 div.sk-parallel-item:last-child::after {align-self: flex-start;width: 50%;}#sk-container-id-2 div.sk-parallel-item:only-child::after {width: 0;}#sk-container-id-2 div.sk-dashed-wrapped {border: 1px dashed gray;margin: 0 0.4em 0.5em 0.4em;box-sizing: border-box;padding-bottom: 0.4em;background-color: white;}#sk-container-id-2 div.sk-label label {font-family: monospace;font-weight: bold;display: inline-block;line-height: 1.2em;}#sk-container-id-2 div.sk-label-container {text-align: center;}#sk-container-id-2 div.sk-container {/* jupyter's `normalize.less` sets `[hidden] { display: none; }` but bootstrap.min.css set `[hidden] { display: none !important; }` so we also need the `!important` here to be able to override the default hidden behavior on the sphinx rendered scikit-learn.org. See: https://github.com/scikit-learn/scikit-learn/issues/21755 */display: inline-block !important;position: relative;}#sk-container-id-2 div.sk-text-repr-fallback {display: none;}</style><div id=\"sk-container-id-2\" class=\"sk-top-container\"><div class=\"sk-text-repr-fallback\"><pre>XGBClassifier(base_score=None, booster=None, callbacks=None,\n",
       "              colsample_bylevel=None, colsample_bynode=None,\n",
       "              colsample_bytree=None, early_stopping_rounds=None,\n",
       "              enable_categorical=False, eval_metric=None, feature_types=None,\n",
       "              gamma=None, gpu_id=None, grow_policy=None, importance_type=None,\n",
       "              interaction_constraints=None, learning_rate=None, max_bin=None,\n",
       "              max_cat_threshold=None, max_cat_to_onehot=None,\n",
       "              max_delta_step=None, max_depth=None, max_leaves=None,\n",
       "              min_child_weight=None, missing=nan, monotone_constraints=None,\n",
       "              n_estimators=100, n_jobs=None, num_parallel_tree=None,\n",
       "              predictor=None, random_state=None, ...)</pre><b>In a Jupyter environment, please rerun this cell to show the HTML representation or trust the notebook. <br />On GitHub, the HTML representation is unable to render, please try loading this page with nbviewer.org.</b></div><div class=\"sk-container\" hidden><div class=\"sk-item\"><div class=\"sk-estimator sk-toggleable\"><input class=\"sk-toggleable__control sk-hidden--visually\" id=\"sk-estimator-id-4\" type=\"checkbox\" checked><label for=\"sk-estimator-id-4\" class=\"sk-toggleable__label sk-toggleable__label-arrow\">XGBClassifier</label><div class=\"sk-toggleable__content\"><pre>XGBClassifier(base_score=None, booster=None, callbacks=None,\n",
       "              colsample_bylevel=None, colsample_bynode=None,\n",
       "              colsample_bytree=None, early_stopping_rounds=None,\n",
       "              enable_categorical=False, eval_metric=None, feature_types=None,\n",
       "              gamma=None, gpu_id=None, grow_policy=None, importance_type=None,\n",
       "              interaction_constraints=None, learning_rate=None, max_bin=None,\n",
       "              max_cat_threshold=None, max_cat_to_onehot=None,\n",
       "              max_delta_step=None, max_depth=None, max_leaves=None,\n",
       "              min_child_weight=None, missing=nan, monotone_constraints=None,\n",
       "              n_estimators=100, n_jobs=None, num_parallel_tree=None,\n",
       "              predictor=None, random_state=None, ...)</pre></div></div></div></div></div>"
      ],
      "text/plain": [
       "XGBClassifier(base_score=None, booster=None, callbacks=None,\n",
       "              colsample_bylevel=None, colsample_bynode=None,\n",
       "              colsample_bytree=None, early_stopping_rounds=None,\n",
       "              enable_categorical=False, eval_metric=None, feature_types=None,\n",
       "              gamma=None, gpu_id=None, grow_policy=None, importance_type=None,\n",
       "              interaction_constraints=None, learning_rate=None, max_bin=None,\n",
       "              max_cat_threshold=None, max_cat_to_onehot=None,\n",
       "              max_delta_step=None, max_depth=None, max_leaves=None,\n",
       "              min_child_weight=None, missing=nan, monotone_constraints=None,\n",
       "              n_estimators=100, n_jobs=None, num_parallel_tree=None,\n",
       "              predictor=None, random_state=None, ...)"
      ]
     },
     "execution_count": 28,
     "metadata": {},
     "output_type": "execute_result"
    }
   ],
   "source": [
    "from xgboost import XGBClassifier\n",
    "xgb = XGBClassifier()\n",
    "xgb.fit(X_train,y_train)\n"
   ]
  },
  {
   "cell_type": "code",
   "execution_count": 29,
   "metadata": {},
   "outputs": [
    {
     "data": {
      "text/plain": [
       "0.9924242424242424"
      ]
     },
     "execution_count": 29,
     "metadata": {},
     "output_type": "execute_result"
    }
   ],
   "source": [
    "y_pred = xgb.predict(X_test)\n",
    "accuracy_score(y_test,y_pred)"
   ]
  },
  {
   "cell_type": "code",
   "execution_count": 30,
   "metadata": {},
   "outputs": [
    {
     "data": {
      "text/plain": [
       "array([[1305,   15],\n",
       "       [   0,  660]], dtype=int64)"
      ]
     },
     "execution_count": 30,
     "metadata": {},
     "output_type": "execute_result"
    }
   ],
   "source": [
    "confusion_matrix(y_test,y_pred)"
   ]
  }
 ],
 "metadata": {
  "kernelspec": {
   "display_name": "Python 3 (ipykernel)",
   "language": "python",
   "name": "python3"
  },
  "language_info": {
   "codemirror_mode": {
    "name": "ipython",
    "version": 3
   },
   "file_extension": ".py",
   "mimetype": "text/x-python",
   "name": "python",
   "nbconvert_exporter": "python",
   "pygments_lexer": "ipython3",
   "version": "3.11.3"
  }
 },
 "nbformat": 4,
 "nbformat_minor": 2
}
